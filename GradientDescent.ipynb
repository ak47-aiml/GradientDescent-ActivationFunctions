{
 "cells": [
  {
   "cell_type": "markdown",
   "metadata": {},
   "source": [
    "# Gradient Descent & Activation Functions"
   ]
  },
  {
   "cell_type": "markdown",
   "metadata": {},
   "source": [
    "<font color='steelblue'>\n",
    "\n",
    "<font size = 5>\n",
    "    <b>Gradient Descent</b><br><br>\n",
    "\n",
    "</font>\n",
    "</font>\n",
    "\n",
    "<font color = 'grey'>\n",
    "<font size = 4>\n",
    "\n",
    "Relation between Error, Weights and Predictions using Gradient Descent<br>\n",
    "\n",
    "**Following examples are included in the processing:**\n",
    "\n",
    "- Define input, initial weight and prediction target\n",
    "- Set number of iterations\n",
    "- Calculate prediction and error\n",
    "- Adjust the weight\n",
    "- Create Dataframe using the data used\n",
    "- Plot the Dataframe\n",
    "\n",
    "</font>\n",
    "\n",
    "</font>"
   ]
  },
  {
   "cell_type": "markdown",
   "metadata": {},
   "source": [
    "<font color='steelblue'>\n",
    "\n",
    "<font size = 5>\n",
    "    <b>Activation Functions</b><br><br>\n",
    "</font>\n",
    "</font>\n",
    "\n",
    "<font color = 'grey'>\n",
    "<font size = 4>\n",
    "    \n",
    "Look at some of the activation functions<br>\n",
    "    \n",
    "**Following examples are included in the processing:**\n",
    "\n",
    "- Create a tensor\n",
    "- Apply Sigmoid, ReLU, Tanh and Linear activation function\n",
    "- Plot them\n",
    "   \n",
    "</font>\n",
    "\n",
    "</font>"
   ]
  },
  {
   "cell_type": "code",
   "execution_count": null,
   "metadata": {},
   "outputs": [],
   "source": [
    "import numpy as np\n",
    "import pandas as pd\n",
    "import matplotlib.pyplot as plt\n",
    "%matplotlib inline\n",
    "\n",
    "pd.set_option('display.max_rows', None)  # display all rows"
   ]
  },
  {
   "cell_type": "code",
   "execution_count": null,
   "metadata": {},
   "outputs": [],
   "source": [
    "input = 0.5\n",
    "weight = 0.1\n",
    "target = 0.9"
   ]
  },
  {
   "cell_type": "code",
   "execution_count": null,
   "metadata": {},
   "outputs": [],
   "source": [
    "data = []\n",
    "numIter = 30    # epochs"
   ]
  },
  {
   "cell_type": "code",
   "execution_count": null,
   "metadata": {},
   "outputs": [],
   "source": [
    "for iter in range(numIter):\n",
    "    predict = input * weight\n",
    "    error = (predict - target) ** 2\n",
    "    \n",
    "    delta = predict - target    # how wrong am i\n",
    "    weight_delta = delta * input   # do it for sign and magnitude\n",
    "    weight = weight - weight_delta\n",
    "    row = [iter + 1, error, weight, predict]\n",
    "    data.append(row)\n",
    "    #print(f'Error: {error} Weight {weight} Prediction {predict}')\n",
    "    \n",
    "    print('Epoch: {0} Error: {1:.8} Weight {2:8} Prediction {3:.8}'.format(iter + 1, error, weight, predict))"
   ]
  },
  {
   "cell_type": "code",
   "execution_count": null,
   "metadata": {},
   "outputs": [],
   "source": [
    "df = pd.DataFrame(data, columns = ['Epoch', 'Error', 'Weight', 'Prediction'])"
   ]
  },
  {
   "cell_type": "code",
   "execution_count": null,
   "metadata": {},
   "outputs": [],
   "source": [
    "#df.style.format('{:.10f}')\n",
    "pd.set_option('display.precision',16)\n",
    "df.head(numIter)"
   ]
  },
  {
   "cell_type": "code",
   "execution_count": null,
   "metadata": {},
   "outputs": [],
   "source": [
    "plt.figure(figsize = [5,4])\n",
    "plt.scatter(df['Weight'], df['Error'], alpha=0.9,\n",
    "            s=100, c=df['Prediction'], cmap='magma')\n",
    "plt.xlabel('Weight')\n",
    "plt.ylabel(\"Error\")\n",
    "plt.xlim(0.5, 1.8)\n",
    "plt.title(\"Weight v/s Error\")\n",
    "plt.show()"
   ]
  },
  {
   "cell_type": "code",
   "execution_count": null,
   "metadata": {},
   "outputs": [],
   "source": [
    "plt.figure(figsize = (5,4))\n",
    "plt.plot(df.Epoch, df.Error)\n",
    "plt.xlabel('Epoch')\n",
    "plt.ylabel('Error');"
   ]
  },
  {
   "cell_type": "markdown",
   "metadata": {},
   "source": [
    "## Another example"
   ]
  },
  {
   "cell_type": "code",
   "execution_count": null,
   "metadata": {},
   "outputs": [],
   "source": [
    "X = [0,0.12,0.25,0.27,0.38,0.42,0.44,0.55,0.92,1.0]\n",
    "y = [0,0.15,0.54,0.51, 0.34,0.1,0.19,0.53,1.0,0.58]\n",
    "\n",
    "costs = []"
   ]
  },
  {
   "cell_type": "code",
   "execution_count": null,
   "metadata": {},
   "outputs": [],
   "source": [
    "#Step 1: Parameter initialization \n",
    "W = 0.45\n",
    "b = 0.75"
   ]
  },
  {
   "cell_type": "markdown",
   "metadata": {},
   "source": [
    "<font size = 4>\n",
    "Error Calculation<br>\n",
    "    \n",
    "$(\\sum_{i=1}^n(\\hat{y}- y)^2) * 0.5$\n",
    "    \n",
    "</font>"
   ]
  },
  {
   "cell_type": "code",
   "execution_count": null,
   "metadata": {},
   "outputs": [],
   "source": [
    "def getCosts(niters):\n",
    "    num_iters = niters\n",
    "    global W, b\n",
    "    for i in range(1, num_iters):\n",
    "    \n",
    "        #Step 2: Step 2: Calculate Cost\n",
    "        Y_pred = np.multiply(W, X) + b\n",
    "        Loss_error = 0.5 * (Y_pred - y)**2\n",
    "        cost = np.sum(Loss_error)/10\n",
    "        \n",
    "        #Step 3: Calculate dW and db    \n",
    "        db = np.sum((Y_pred - y))\n",
    "        dw = np.dot((Y_pred - y), X)\n",
    "        costs.append(cost)\n",
    "\n",
    "        #Step 4: Update parameters:\n",
    "        W = W - 0.01 * dw\n",
    "        b = b - 0.01 * db\n",
    "    \n",
    "        if i%10 == 0:\n",
    "            print(\"Cost at\", i,\"iteration = \", cost)"
   ]
  },
  {
   "cell_type": "code",
   "execution_count": null,
   "metadata": {},
   "outputs": [],
   "source": [
    "#Plot the cost against no. of iterations\n",
    "def plotCosts():\n",
    "    print(\"W = \", W,\"& b = \",  b)\n",
    "    plt.figure(figsize = (6,4))\n",
    "    plt.plot(costs)\n",
    "    plt.ylabel('cost')\n",
    "    plt.xlabel('iterations (per tens)')\n",
    "    plt.show()"
   ]
  },
  {
   "cell_type": "code",
   "execution_count": null,
   "metadata": {},
   "outputs": [],
   "source": [
    "getCosts(100)"
   ]
  },
  {
   "cell_type": "code",
   "execution_count": null,
   "metadata": {},
   "outputs": [],
   "source": [
    "plotCosts()"
   ]
  },
  {
   "cell_type": "markdown",
   "metadata": {},
   "source": [
    "<font color='tomato'>\n",
    "\n",
    "<span style=\"font-family:verdana; font-size:1.6em;\">\n",
    "    <b>set num_iter to 1000 and observe the weight and bias</b>\n",
    "</span>\n",
    "</font>"
   ]
  },
  {
   "cell_type": "code",
   "execution_count": null,
   "metadata": {},
   "outputs": [],
   "source": [
    "getCosts(1000)"
   ]
  },
  {
   "cell_type": "code",
   "execution_count": null,
   "metadata": {},
   "outputs": [],
   "source": [
    "plotCosts()"
   ]
  },
  {
   "cell_type": "markdown",
   "metadata": {},
   "source": [
    "# Activation Functions"
   ]
  },
  {
   "cell_type": "code",
   "execution_count": null,
   "metadata": {},
   "outputs": [],
   "source": [
    "import tensorflow as tf"
   ]
  },
  {
   "cell_type": "code",
   "execution_count": null,
   "metadata": {},
   "outputs": [],
   "source": [
    "# create a Tensor something similar to the data we pass to neural network\n",
    "aTensor = tf.cast(tf.range(-10, 10), tf.float32)\n",
    "aTensor"
   ]
  },
  {
   "cell_type": "code",
   "execution_count": null,
   "metadata": {},
   "outputs": [],
   "source": [
    "# Visualize the tensor\n",
    "plt.figure(figsize = (4,3))\n",
    "plt.plot(aTensor);"
   ]
  },
  {
   "cell_type": "code",
   "execution_count": null,
   "metadata": {},
   "outputs": [],
   "source": [
    "# let us check if the linear activation function\n",
    "\n",
    "aTensor == tf.keras.activations.linear(aTensor)"
   ]
  },
  {
   "cell_type": "markdown",
   "metadata": {},
   "source": [
    "<font size = 3>\n",
    "   \n",
    "- A straight line - tensor is linear\n",
    "        \n",
    "\n",
    "## Sigmoid Function\n",
    "\n",
    "- Create a [sigmoid function](https://en.wikipedia.org/wiki/Sigmoid_function)\n",
    "- It is also available at [`tf.keras.activations.sigmoid`](https://www.tensorflow.org/api_docs/python/tf/keras/activations/sigmoid)\n",
    "    \n",
    "</font>"
   ]
  },
  {
   "cell_type": "code",
   "execution_count": null,
   "metadata": {},
   "outputs": [],
   "source": [
    "# define sigmoid function\n",
    "def sigmoid(data):\n",
    "    return 1.0/ (1.0 + tf.exp(-data))\n",
    "\n",
    "# use the function\n",
    "sigmoid(aTensor)"
   ]
  },
  {
   "cell_type": "code",
   "execution_count": null,
   "metadata": {},
   "outputs": [],
   "source": [
    "# plot function with our data\n",
    "plt.figure(figsize = (4,3))\n",
    "plt.plot(sigmoid(aTensor));"
   ]
  },
  {
   "cell_type": "markdown",
   "metadata": {},
   "source": [
    "<font size = 3>\n",
    "        \n",
    "## Rectified Linear Activation Function (ReLU)\n",
    "    \n",
    "- ReLU turns all negatives to 0 and all positive numbers to stay the same\n",
    "\n",
    "- Create a [relu function](https://en.wikipedia.org/wiki/Rectifier_(neural_networks))\n",
    "- It is also available at [`tf.keras.activations.relu`](https://www.tensorflow.org/api_docs/python/tf/keras/activations/relu)\n",
    "    \n",
    "</font>"
   ]
  },
  {
   "cell_type": "code",
   "execution_count": null,
   "metadata": {},
   "outputs": [],
   "source": [
    "# define ReLU function\n",
    "def relu(data):\n",
    "    return tf.maximum(0, data)\n",
    "\n",
    "aTensor"
   ]
  },
  {
   "cell_type": "code",
   "execution_count": null,
   "metadata": {},
   "outputs": [],
   "source": [
    "# apply relu to tensor\n",
    "relu(aTensor)"
   ]
  },
  {
   "cell_type": "code",
   "execution_count": null,
   "metadata": {},
   "outputs": [],
   "source": [
    "# plot relu\n",
    "plt.figure(figsize = (4,3))\n",
    "plt.plot(relu(aTensor));"
   ]
  },
  {
   "cell_type": "markdown",
   "metadata": {},
   "source": [
    "<font size = 3>\n",
    "        \n",
    "## Hyperbolic Tangent (tanh)\n",
    "    \n",
    "- ReLU values between -1 and 1\n",
    "\n",
    "- Available at [`tf.keras.activations.tanh`](https://www.tensorflow.org/api_docs/python/tf/keras/activations/tanh)\n",
    "    \n",
    "</font>"
   ]
  },
  {
   "cell_type": "code",
   "execution_count": null,
   "metadata": {},
   "outputs": [],
   "source": [
    "plt.figure(figsize = (4,3))\n",
    "plt.plot(tf.keras.activations.tanh(aTensor));"
   ]
  },
  {
   "cell_type": "markdown",
   "metadata": {},
   "source": [
    "## Applying activation function to multi dimensional data"
   ]
  },
  {
   "cell_type": "code",
   "execution_count": null,
   "metadata": {},
   "outputs": [],
   "source": [
    "tf.random.set_seed(2345)\n",
    "data = tf.random.normal([5, 5])"
   ]
  },
  {
   "cell_type": "code",
   "execution_count": null,
   "metadata": {},
   "outputs": [],
   "source": [
    "data.shape"
   ]
  },
  {
   "cell_type": "code",
   "execution_count": null,
   "metadata": {},
   "outputs": [],
   "source": [
    "data.numpy()"
   ]
  },
  {
   "cell_type": "code",
   "execution_count": null,
   "metadata": {},
   "outputs": [],
   "source": [
    "sig = tf.keras.activations.relu(data)"
   ]
  },
  {
   "cell_type": "code",
   "execution_count": null,
   "metadata": {},
   "outputs": [],
   "source": [
    "sig.shape"
   ]
  },
  {
   "cell_type": "markdown",
   "metadata": {},
   "source": [
    "### To plot it have to convert it to single dimension"
   ]
  },
  {
   "cell_type": "code",
   "execution_count": null,
   "metadata": {},
   "outputs": [],
   "source": [
    "sig = tf.reshape(sig, (25,))"
   ]
  },
  {
   "cell_type": "code",
   "execution_count": null,
   "metadata": {},
   "outputs": [],
   "source": [
    "sig.numpy()"
   ]
  },
  {
   "cell_type": "code",
   "execution_count": null,
   "metadata": {},
   "outputs": [],
   "source": [
    "plt.plot(sig);"
   ]
  },
  {
   "cell_type": "markdown",
   "metadata": {},
   "source": [
    "<font size = 4>\n",
    "\n",
    "For more activation functions, check out [cheatsheet](https://ml-cheatsheet.readthedocs.io/en/latest/activation_functions.html#)\n",
    "    \n",
    "</font>"
   ]
  }
 ],
 "metadata": {
  "kernelspec": {
   "display_name": "Python 3 (ipykernel)",
   "language": "python",
   "name": "python3"
  },
  "language_info": {
   "codemirror_mode": {
    "name": "ipython",
    "version": 3
   },
   "file_extension": ".py",
   "mimetype": "text/x-python",
   "name": "python",
   "nbconvert_exporter": "python",
   "pygments_lexer": "ipython3",
   "version": "3.9.13"
  },
  "toc": {
   "base_numbering": 1,
   "nav_menu": {},
   "number_sections": false,
   "sideBar": true,
   "skip_h1_title": false,
   "title_cell": "Table of Contents",
   "title_sidebar": "Contents",
   "toc_cell": false,
   "toc_position": {},
   "toc_section_display": true,
   "toc_window_display": false
  }
 },
 "nbformat": 4,
 "nbformat_minor": 4
}
